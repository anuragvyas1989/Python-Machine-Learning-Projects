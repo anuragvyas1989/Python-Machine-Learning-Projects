{
 "cells": [
  {
   "cell_type": "markdown",
   "metadata": {},
   "source": [
    "Table of Contents\n",
    "1. [Defining Objective Function](#section1)<br>\n",
    "2. [Defining Domain](#section2)<br>\n",
    "3. [Hyperoptimization Algorithm](#section3)<br>\n",
    "4. [Storing History](#section4)<br>\n",
    "5. [Running the Optimization](#section5)<br>\n",
    "6. [Results](#section6)<br>\n",
    "7. [Choosing better domain Space](#section7)<br>\n",
    "8. [Returning more values from objective function](#section8)"
   ]
  },
  {
   "cell_type": "code",
   "execution_count": 104,
   "metadata": {
    "id": "gzuZgZMJ2mfd"
   },
   "outputs": [],
   "source": [
    "# Importing libraries\n",
    "import pandas as pd\n",
    "import numpy as np\n",
    "\n",
    "\n",
    "import matplotlib.pyplot as plt\n",
    "import seaborn as sns"
   ]
  },
  {
   "cell_type": "markdown",
   "metadata": {
    "id": "ArR8MX9fK0A_"
   },
   "source": [
    "### 1. Defining Objective Function <a id=section1></a>"
   ]
  },
  {
   "cell_type": "code",
   "execution_count": 105,
   "metadata": {
    "id": "B5GxGCuU5YOM"
   },
   "outputs": [],
   "source": [
    "def objective(x):\n",
    "    \"\"\"Objective function to minimize\"\"\"\n",
    "    \n",
    "    # Create the polynomial object\n",
    "    f = np.poly1d([1, -2, -28, 28, 12, -26, 100, 112])\n",
    "\n",
    "    # Return the value of the polynomial\n",
    "    return f(x) * 0.05"
   ]
  },
  {
   "cell_type": "code",
   "execution_count": 106,
   "metadata": {
    "colab": {
     "base_uri": "https://localhost:8080/",
     "height": 455
    },
    "id": "iha0eiQJOucS",
    "outputId": "0a2f30fd-e36f-474b-fabe-c21137898f1d"
   },
   "outputs": [
    {
     "name": "stdout",
     "output_type": "stream",
     "text": [
      "-1083.742969491826\n",
      "5.026402640264026\n",
      "Min of -1083.7430 occurs at 5.0264\n"
     ]
    },
    {
     "data": {
      "image/png": "[encoded data removed]",
      "text/plain": [
       "<Figure size 576x432 with 1 Axes>"
      ]
     },
     "metadata": {
      "needs_background": "light",
      "tags": []
     },
     "output_type": "display_data"
    }
   ],
   "source": [
    "x = np.linspace(-5,6,10000)\n",
    "y = objective(x)\n",
    "min_y = min(y)\n",
    "min_x = x[np.argmin(y)]\n",
    "print(min_y)\n",
    "print(min_x)\n",
    "\n",
    "#plotting the data\n",
    "plt.figure(figsize = (8,6))\n",
    "plt.style.use('seaborn-deep')\n",
    "plt.title('Objective function')\n",
    "plt.xlabel('x')\n",
    "plt.ylabel('f(x)')\n",
    "plt.vlines(min_x, min(y)-50, max(y), linestyle = '--', colors = 'r')\n",
    "plt.plot(x,y);\n",
    "\n",
    "print('Min of %0.4f occurs at %0.4f' %(min(y),min_x))"
   ]
  },
  {
   "cell_type": "markdown",
   "metadata": {
    "id": "8h_EMH00LDD1"
   },
   "source": [
    "### 2. Defining Domain <a id=section2></a>"
   ]
  },
  {
   "cell_type": "code",
   "execution_count": 107,
   "metadata": {
    "id": "_tVnJcnA5SNf"
   },
   "outputs": [],
   "source": [
    "#define space for search\n",
    "space = hp.uniform('x', 4, 6)"
   ]
  },
  {
   "cell_type": "markdown",
   "metadata": {
    "id": "c91etWnXLNkK"
   },
   "source": [
    "### 3. Hyper Optimization Algorithm <a id=section3></a>"
   ]
  },
  {
   "cell_type": "code",
   "execution_count": 108,
   "metadata": {
    "id": "A6UR4CJCLMhT"
   },
   "outputs": [],
   "source": [
    "from hyperopt import rand, tpe\n",
    "\n",
    "# Create the algorithms\n",
    "tpe_algo = tpe.suggest\n",
    "rand_algo = rand.suggest"
   ]
  },
  {
   "cell_type": "markdown",
   "metadata": {
    "id": "o22ShUmYLawC"
   },
   "source": [
    "### 4. History <a id=section4></a>"
   ]
  },
  {
   "cell_type": "code",
   "execution_count": 109,
   "metadata": {
    "id": "KiJ_j0vKLcjS"
   },
   "outputs": [],
   "source": [
    "from hyperopt import Trials\n",
    "\n",
    "# Create two trials objects\n",
    "tpe_trials = Trials()\n",
    "rand_trials = Trials()"
   ]
  },
  {
   "cell_type": "markdown",
   "metadata": {
    "id": "XBRuPBNWLiEC"
   },
   "source": [
    "### 5. Run the Optimization <a id=section5></a>"
   ]
  },
  {
   "cell_type": "code",
   "execution_count": 110,
   "metadata": {
    "colab": {
     "base_uri": "https://localhost:8080/"
    },
    "id": "aWouOKL75i4S",
    "outputId": "fff2e337-02df-4f49-e89a-7e585afb0ac4"
   },
   "outputs": [
    {
     "name": "stdout",
     "output_type": "stream",
     "text": [
      "100%|██████████| 1000/1000 [00:07<00:00, 138.67it/s, best loss: -1083.7429073855042]\n",
      "{'x': 5.026898292290859}\n",
      "100%|██████████| 1000/1000 [00:01<00:00, 691.38it/s, best loss: -1083.742314515434]\n"
     ]
    }
   ],
   "source": [
    "from hyperopt import fmin\n",
    "\n",
    "# Run 2000 evals with the tpe algorithm\n",
    "tpe_best = fmin(fn=objective, space=space, algo=tpe_algo, trials=tpe_trials, \n",
    "                max_evals=1000, rstate= np.random.RandomState(50))\n",
    "\n",
    "print(tpe_best)\n",
    "\n",
    "# Run 2000 evals with the random algorithm\n",
    "rand_best = fmin(fn=objective, space=space, algo=rand_algo, trials=rand_trials, \n",
    "                 max_evals=1000, rstate= np.random.RandomState(50))"
   ]
  },
  {
   "cell_type": "code",
   "execution_count": 111,
   "metadata": {
    "colab": {
     "base_uri": "https://localhost:8080/"
    },
    "id": "q0t2UGw7Pp9e",
    "outputId": "1a65049a-4136-4769-ebc8-47c6eca3bf99"
   },
   "outputs": [
    {
     "name": "stdout",
     "output_type": "stream",
     "text": [
      "Minimum loss attained with TPE:    -1083.7429\n",
      "Minimum loss attained with random: -1083.7423\n",
      "Actual minimum of f(x):            -1083.7430\n",
      "\n",
      "Number of trials needed to attain minimum with TPE:    434\n",
      "Number of trials needed to attain minimum with random: 540\n",
      "\n",
      "Best value of x from TPE:    5.0269\n",
      "Best value of x from random: 5.0275\n",
      "Actual best value of x:      5.0264\n"
     ]
    }
   ],
   "source": [
    "# Print out information about losses\n",
    "print('Minimum loss attained with TPE:    {:.4f}'.format(tpe_trials.best_trial['result']['loss']))\n",
    "print('Minimum loss attained with random: {:.4f}'.format(rand_trials.best_trial['result']['loss']))\n",
    "print('Actual minimum of f(x):            {:.4f}'.format(min_y))\n",
    "\n",
    "# Print out information about number of trials\n",
    "print('\\nNumber of trials needed to attain minimum with TPE:    {}'.format(tpe_trials.best_trial['misc']['idxs']['x'][0]))\n",
    "print('Number of trials needed to attain minimum with random: {}'.format(rand_trials.best_trial['misc']['idxs']['x'][0]))\n",
    "\n",
    "# Print out information about value of x\n",
    "print('\\nBest value of x from TPE:    {:.4f}'.format(tpe_best['x']))\n",
    "print('Best value of x from random: {:.4f}'.format(rand_best['x']))\n",
    "print('Actual best value of x:      {:.4f}'.format(min_x))"
   ]
  },
  {
   "cell_type": "markdown",
   "metadata": {
    "id": "ukPLrJhZMfKC"
   },
   "source": [
    "### 6. Results <a id=section6></a>"
   ]
  },
  {
   "cell_type": "code",
   "execution_count": 112,
   "metadata": {
    "colab": {
     "base_uri": "https://localhost:8080/",
     "height": 204
    },
    "id": "Ywr9rHcN5v8z",
    "outputId": "6ba9eb64-1468-43ac-d063-9331fc0cc975"
   },
   "outputs": [
    {
     "data": {
      "text/html": [
       "<div>\n",
       "<style scoped>\n",
       "    .dataframe tbody tr th:only-of-type {\n",
       "        vertical-align: middle;\n",
       "    }\n",
       "\n",
       "    .dataframe tbody tr th {\n",
       "        vertical-align: top;\n",
       "    }\n",
       "\n",
       "    .dataframe thead th {\n",
       "        text-align: right;\n",
       "    }\n",
       "</style>\n",
       "<table border=\"1\" class=\"dataframe\">\n",
       "  <thead>\n",
       "    <tr style=\"text-align: right;\">\n",
       "      <th></th>\n",
       "      <th>loss</th>\n",
       "      <th>iteration</th>\n",
       "      <th>x</th>\n",
       "    </tr>\n",
       "  </thead>\n",
       "  <tbody>\n",
       "    <tr>\n",
       "      <th>0</th>\n",
       "      <td>348.280272</td>\n",
       "      <td>0</td>\n",
       "      <td>5.992343</td>\n",
       "    </tr>\n",
       "    <tr>\n",
       "      <th>1</th>\n",
       "      <td>-450.905538</td>\n",
       "      <td>1</td>\n",
       "      <td>5.721979</td>\n",
       "    </tr>\n",
       "    <tr>\n",
       "      <th>2</th>\n",
       "      <td>-834.120085</td>\n",
       "      <td>2</td>\n",
       "      <td>5.494357</td>\n",
       "    </tr>\n",
       "    <tr>\n",
       "      <th>3</th>\n",
       "      <td>-1050.418734</td>\n",
       "      <td>3</td>\n",
       "      <td>4.815298</td>\n",
       "    </tr>\n",
       "    <tr>\n",
       "      <th>4</th>\n",
       "      <td>-631.351094</td>\n",
       "      <td>4</td>\n",
       "      <td>4.015121</td>\n",
       "    </tr>\n",
       "  </tbody>\n",
       "</table>\n",
       "</div>"
      ],
      "text/plain": [
       "          loss  iteration         x\n",
       "0   348.280272          0  5.992343\n",
       "1  -450.905538          1  5.721979\n",
       "2  -834.120085          2  5.494357\n",
       "3 -1050.418734          3  4.815298\n",
       "4  -631.351094          4  4.015121"
      ]
     },
     "execution_count": 112,
     "metadata": {
      "tags": []
     },
     "output_type": "execute_result"
    }
   ],
   "source": [
    "tpe_results = pd.DataFrame({'loss': [x['loss'] for x in tpe_trials.results], 'iteration': tpe_trials.idxs_vals[0]['x'],\n",
    "                            'x': tpe_trials.idxs_vals[1]['x']})\n",
    "                            \n",
    "tpe_results.head()"
   ]
  },
  {
   "cell_type": "code",
   "execution_count": 113,
   "metadata": {
    "colab": {
     "base_uri": "https://localhost:8080/",
     "height": 204
    },
    "id": "H9KTbbgeRYSC",
    "outputId": "7816656a-6377-47e7-b6ad-49877a562821"
   },
   "outputs": [
    {
     "data": {
      "text/html": [
       "<div>\n",
       "<style scoped>\n",
       "    .dataframe tbody tr th:only-of-type {\n",
       "        vertical-align: middle;\n",
       "    }\n",
       "\n",
       "    .dataframe tbody tr th {\n",
       "        vertical-align: top;\n",
       "    }\n",
       "\n",
       "    .dataframe thead th {\n",
       "        text-align: right;\n",
       "    }\n",
       "</style>\n",
       "<table border=\"1\" class=\"dataframe\">\n",
       "  <thead>\n",
       "    <tr style=\"text-align: right;\">\n",
       "      <th></th>\n",
       "      <th>loss</th>\n",
       "      <th>iteration</th>\n",
       "      <th>x</th>\n",
       "    </tr>\n",
       "  </thead>\n",
       "  <tbody>\n",
       "    <tr>\n",
       "      <th>0</th>\n",
       "      <td>348.280272</td>\n",
       "      <td>0</td>\n",
       "      <td>5.992343</td>\n",
       "    </tr>\n",
       "    <tr>\n",
       "      <th>1</th>\n",
       "      <td>-450.905538</td>\n",
       "      <td>1</td>\n",
       "      <td>5.721979</td>\n",
       "    </tr>\n",
       "    <tr>\n",
       "      <th>2</th>\n",
       "      <td>-834.120085</td>\n",
       "      <td>2</td>\n",
       "      <td>5.494357</td>\n",
       "    </tr>\n",
       "    <tr>\n",
       "      <th>3</th>\n",
       "      <td>-1050.418734</td>\n",
       "      <td>3</td>\n",
       "      <td>4.815298</td>\n",
       "    </tr>\n",
       "    <tr>\n",
       "      <th>4</th>\n",
       "      <td>-631.351094</td>\n",
       "      <td>4</td>\n",
       "      <td>4.015121</td>\n",
       "    </tr>\n",
       "  </tbody>\n",
       "</table>\n",
       "</div>"
      ],
      "text/plain": [
       "          loss  iteration         x\n",
       "0   348.280272          0  5.992343\n",
       "1  -450.905538          1  5.721979\n",
       "2  -834.120085          2  5.494357\n",
       "3 -1050.418734          3  4.815298\n",
       "4  -631.351094          4  4.015121"
      ]
     },
     "execution_count": 113,
     "metadata": {
      "tags": []
     },
     "output_type": "execute_result"
    }
   ],
   "source": [
    "rand_results = pd.DataFrame({'loss': [x['loss'] for x in rand_trials.results], \n",
    "                            'iteration': rand_trials.idxs_vals[0]['x'],\n",
    "                            'x': rand_trials.idxs_vals[1]['x']})\n",
    "                            \n",
    "rand_results.head()"
   ]
  },
  {
   "cell_type": "code",
   "execution_count": 114,
   "metadata": {
    "colab": {
     "base_uri": "https://localhost:8080/",
     "height": 377
    },
    "id": "qTwpZDoI6xWP",
    "outputId": "0ef0470e-fe89-430b-fbeb-483d1c132d2c"
   },
   "outputs": [
    {
     "data": {
      "text/plain": [
       "Text(0, 0.5, '$x$')"
      ]
     },
     "execution_count": 114,
     "metadata": {
      "tags": []
     },
     "output_type": "execute_result"
    },
    {
     "data": {
      "image/png": "[encoded data removed]",
      "text/plain": [
       "<Figure size 1080x360 with 2 Axes>"
      ]
     },
     "metadata": {
      "needs_background": "light",
      "tags": []
     },
     "output_type": "display_data"
    }
   ],
   "source": [
    "f, ax = plt.subplots(ncols=2, figsize=(15,5))\n",
    "ax[0].scatter(tpe_results.iteration, tpe_results.x, s=20, linewidth=0.01, alpha=0.75)\n",
    "ax[0].set_title('$x$ $vs$ $t$ ', fontsize=18)\n",
    "ax[0].set_xlabel('$t$', fontsize=16)\n",
    "ax[0].set_ylabel('$x$', fontsize=16)\n",
    "ax[1].scatter(rand_results.iteration, rand_results.x, s=20, linewidth=0.01, alpha=0.75)\n",
    "ax[1].set_title('$x$ $vs$ $t$ ', fontsize=18)\n",
    "ax[1].set_xlabel('$t$', fontsize=16)\n",
    "ax[1].set_ylabel('$x$', fontsize=16)"
   ]
  },
  {
   "cell_type": "markdown",
   "metadata": {
    "id": "JTKTyop4R6bG"
   },
   "source": [
    "We can see that over time, the algorithm tended to try values closer to 4.9. The local minimum around -4 likely threw off the algorithm initially, but the points tend to cluster around the actual minimum as the algorithm progresses.\n",
    "\n",
    "Clearly, the random algorithm is just \"randomly\" choosing the next set of values to try! There is no logical order here."
   ]
  },
  {
   "cell_type": "code",
   "execution_count": 115,
   "metadata": {
    "colab": {
     "base_uri": "https://localhost:8080/"
    },
    "id": "_sVGR_qzV_fo",
    "outputId": "9dc04ddd-61e2-4e32-e238-bb475e691dec"
   },
   "outputs": [
    {
     "name": "stdout",
     "output_type": "stream",
     "text": [
      "Best loss -1083.7429073855042 is evaluated at 434 iteration in tpe.suggest algorithm\n"
     ]
    }
   ],
   "source": [
    "tpe_results = tpe_results.sort_values(by='loss', ascending=True).reset_index()\n",
    "print('Best loss {} is evaluated at {} iteration in tpe.suggest algorithm'.format(tpe_results.loss[0], tpe_results.iteration[0]))"
   ]
  },
  {
   "cell_type": "code",
   "execution_count": 116,
   "metadata": {
    "colab": {
     "base_uri": "https://localhost:8080/"
    },
    "id": "ysVp-iN7XnO4",
    "outputId": "490d84c2-b865-47e4-efdc-3dc70fbecdf5"
   },
   "outputs": [
    {
     "name": "stdout",
     "output_type": "stream",
     "text": [
      "Best loss -1083.742314515434 is evaluated at 540 iteration in rand.suggest algorithm\n"
     ]
    }
   ],
   "source": [
    "rand_results = rand_results.sort_values(by='loss', ascending=True).reset_index()\n",
    "print('Best loss {} is evaluated at {} iteration in rand.suggest algorithm'.format(rand_results.loss[0], rand_results.iteration[0]))"
   ]
  },
  {
   "cell_type": "markdown",
   "metadata": {
    "id": "ITnbjaE7Sacp"
   },
   "source": [
    "### 7. Choosing better domain space <a id=section7></a>"
   ]
  },
  {
   "cell_type": "code",
   "execution_count": 117,
   "metadata": {
    "id": "t4tmlH9ZeXxr"
   },
   "outputs": [],
   "source": [
    "# Normally distributed space\n",
    "space = hp.normal('x', 4.9, 0.5)"
   ]
  },
  {
   "cell_type": "code",
   "execution_count": 119,
   "metadata": {
    "colab": {
     "base_uri": "https://localhost:8080/",
     "height": 295
    },
    "id": "rhOhshI5SiQP",
    "outputId": "ad37bdba-214b-4a8e-d5d2-836d0d0cc9b2"
   },
   "outputs": [
    {
     "data": {
      "image/png": "[encoded data removed]",
      "text/plain": [
       "<Figure size 432x288 with 1 Axes>"
      ]
     },
     "metadata": {
      "needs_background": "light",
      "tags": []
     },
     "output_type": "display_data"
    }
   ],
   "source": [
    "from hyperopt.pyll.stochastic import sample\n",
    "samples = []\n",
    "\n",
    "# Sample 10000 values from the range\n",
    "for _ in range(10000):\n",
    "    samples.append(sample(space))\n",
    "    \n",
    "\n",
    "# Histogram of the values\n",
    "plt.hist(samples, bins = 20, edgecolor = 'black'); \n",
    "plt.xlabel('x'); plt.ylabel('Frequency'); plt.title('Domain Space');"
   ]
  },
  {
   "cell_type": "markdown",
   "metadata": {
    "id": "cJsDOZ2TS5dx"
   },
   "source": [
    "Much closer to the true value! This would help both the random search and the TPE find the minimum quicker (for random search it would help because we are concentrating the possible values around the optimum)."
   ]
  },
  {
   "cell_type": "markdown",
   "metadata": {
    "id": "p0a3dT_LS9dT"
   },
   "source": [
    "### 8. Returning more value from the objective function <a id=section8></a>"
   ]
  },
  {
   "cell_type": "code",
   "execution_count": 120,
   "metadata": {
    "id": "aWLsQuEgS6bI"
   },
   "outputs": [],
   "source": [
    "from hyperopt import STATUS_OK\n",
    "from timeit import default_timer as timer"
   ]
  },
  {
   "cell_type": "code",
   "execution_count": 121,
   "metadata": {
    "id": "8lfLGPbSTFh_"
   },
   "outputs": [],
   "source": [
    "def objective(x):\n",
    "    \"\"\"Objective function to minimize with smarter return values\"\"\"\n",
    "    \n",
    "    # Create the polynomial object\n",
    "    f = np.poly1d([1, -2, -28, 28, 12, -26, 100])\n",
    "\n",
    "    # Evaluate the function\n",
    "    start = timer()\n",
    "    loss = f(x) * 0.05\n",
    "    end = timer()\n",
    "    \n",
    "    # Calculate time to evaluate\n",
    "    time_elapsed = end - start\n",
    "    \n",
    "    results = {'loss': loss, 'status': STATUS_OK, 'x': x, 'time': time_elapsed}\n",
    "    \n",
    "    # Return dictionary\n",
    "    return results"
   ]
  },
  {
   "cell_type": "code",
   "execution_count": 122,
   "metadata": {
    "colab": {
     "base_uri": "https://localhost:8080/"
    },
    "id": "JDeoEnwyTH24",
    "outputId": "d74d56eb-8e8e-4db6-cac0-8c6aecae8209"
   },
   "outputs": [
    {
     "name": "stdout",
     "output_type": "stream",
     "text": [
      "100%|██████████| 2000/2000 [00:19<00:00, 100.64it/s, best loss: -219.80120395524256]\n"
     ]
    }
   ],
   "source": [
    "# New trials object\n",
    "trials = Trials()\n",
    "\n",
    "# Run 2000 evals with the tpe algorithm\n",
    "best = fmin(fn=objective, space=space, algo=tpe_algo, trials=trials, \n",
    "                max_evals=2000, rstate= np.random.RandomState(120))"
   ]
  },
  {
   "cell_type": "code",
   "execution_count": 123,
   "metadata": {
    "colab": {
     "base_uri": "https://localhost:8080/"
    },
    "id": "skI3BDeBTLJw",
    "outputId": "d3d8caac-17b8-43b4-8db9-ebda679c98c5"
   },
   "outputs": [
    {
     "data": {
      "text/plain": [
       "[{'loss': -189.3682041842684,\n",
       "  'status': 'ok',\n",
       "  'time': 6.898699939483777e-05,\n",
       "  'x': 5.312379584994148},\n",
       " {'loss': -219.325099632915,\n",
       "  'status': 'ok',\n",
       "  'time': 0.00028618199939955957,\n",
       "  'x': 4.8166084516702705}]"
      ]
     },
     "execution_count": 123,
     "metadata": {
      "tags": []
     },
     "output_type": "execute_result"
    }
   ],
   "source": [
    "\n",
    "results = trials.results\n",
    "results[:2]"
   ]
  },
  {
   "cell_type": "code",
   "execution_count": 124,
   "metadata": {
    "colab": {
     "base_uri": "https://localhost:8080/",
     "height": 204
    },
    "id": "W-NcbdvzTNu5",
    "outputId": "a2989700-3ef7-4601-fde9-5f68bc69d884"
   },
   "outputs": [
    {
     "data": {
      "text/html": [
       "<div>\n",
       "<style scoped>\n",
       "    .dataframe tbody tr th:only-of-type {\n",
       "        vertical-align: middle;\n",
       "    }\n",
       "\n",
       "    .dataframe tbody tr th {\n",
       "        vertical-align: top;\n",
       "    }\n",
       "\n",
       "    .dataframe thead th {\n",
       "        text-align: right;\n",
       "    }\n",
       "</style>\n",
       "<table border=\"1\" class=\"dataframe\">\n",
       "  <thead>\n",
       "    <tr style=\"text-align: right;\">\n",
       "      <th></th>\n",
       "      <th>time</th>\n",
       "      <th>loss</th>\n",
       "      <th>x</th>\n",
       "      <th>iteration</th>\n",
       "    </tr>\n",
       "  </thead>\n",
       "  <tbody>\n",
       "    <tr>\n",
       "      <th>956</th>\n",
       "      <td>0.000037</td>\n",
       "      <td>-219.801204</td>\n",
       "      <td>4.878152</td>\n",
       "      <td>956</td>\n",
       "    </tr>\n",
       "    <tr>\n",
       "      <th>1316</th>\n",
       "      <td>0.000044</td>\n",
       "      <td>-219.801204</td>\n",
       "      <td>4.878111</td>\n",
       "      <td>1316</td>\n",
       "    </tr>\n",
       "    <tr>\n",
       "      <th>402</th>\n",
       "      <td>0.000033</td>\n",
       "      <td>-219.801204</td>\n",
       "      <td>4.878189</td>\n",
       "      <td>402</td>\n",
       "    </tr>\n",
       "    <tr>\n",
       "      <th>914</th>\n",
       "      <td>0.000038</td>\n",
       "      <td>-219.801203</td>\n",
       "      <td>4.878064</td>\n",
       "      <td>914</td>\n",
       "    </tr>\n",
       "    <tr>\n",
       "      <th>1954</th>\n",
       "      <td>0.000091</td>\n",
       "      <td>-219.801203</td>\n",
       "      <td>4.878222</td>\n",
       "      <td>1954</td>\n",
       "    </tr>\n",
       "  </tbody>\n",
       "</table>\n",
       "</div>"
      ],
      "text/plain": [
       "          time        loss         x  iteration\n",
       "956   0.000037 -219.801204  4.878152        956\n",
       "1316  0.000044 -219.801204  4.878111       1316\n",
       "402   0.000033 -219.801204  4.878189        402\n",
       "914   0.000038 -219.801203  4.878064        914\n",
       "1954  0.000091 -219.801203  4.878222       1954"
      ]
     },
     "execution_count": 124,
     "metadata": {
      "tags": []
     },
     "output_type": "execute_result"
    }
   ],
   "source": [
    "\n",
    "# Results into a dataframe\n",
    "results_df = pd.DataFrame({'time': [x['time'] for x in results], \n",
    "                           'loss': [x['loss'] for x in results],\n",
    "                           'x': [x['x'] for x in results],\n",
    "                            'iteration': list(range(len(results)))})\n",
    "\n",
    "# Sort with lowest loss on top\n",
    "results_df = results_df.sort_values('loss', ascending = True)\n",
    "results_df.head()"
   ]
  },
  {
   "cell_type": "code",
   "execution_count": 125,
   "metadata": {
    "colab": {
     "base_uri": "https://localhost:8080/",
     "height": 295
    },
    "id": "KhTmtxG1TUVo",
    "outputId": "9fcf60f2-03da-4b93-8451-eb6b41167721"
   },
   "outputs": [
    {
     "data": {
      "image/png": "[encoded data removed]",
      "text/plain": [
       "<Figure size 432x288 with 1 Axes>"
      ]
     },
     "metadata": {
      "needs_background": "light",
      "tags": []
     },
     "output_type": "display_data"
    }
   ],
   "source": [
    "plt.hist(results_df['x'], bins = 50, edgecolor = 'k');\n",
    "plt.title('Histogram of TPE Values'); plt.xlabel('Value of x'); plt.ylabel('Count');"
   ]
  },
  {
   "cell_type": "markdown",
   "metadata": {
    "id": "NmNJPoGBTddb"
   },
   "source": [
    "Indeed the values of x evaluated cluster much closer to the optimum! The algorithm spend much more time around the best value than searching the domain space. We can compare this distribution to that attained with the TPE algorithm on the uniform domain using a Kernel Density Estimate Plot."
   ]
  },
  {
   "cell_type": "code",
   "execution_count": 126,
   "metadata": {
    "colab": {
     "base_uri": "https://localhost:8080/",
     "height": 295
    },
    "id": "1xCAHK5OTXr1",
    "outputId": "6b17aa8b-42ce-4eab-c78d-346b7c0dc73a"
   },
   "outputs": [
    {
     "data": {
      "image/png": "[encoded data removed]",
      "text/plain": [
       "<Figure size 432x288 with 1 Axes>"
      ]
     },
     "metadata": {
      "needs_background": "light",
      "tags": []
     },
     "output_type": "display_data"
    }
   ],
   "source": [
    "sns.kdeplot(results_df['x'], label = 'Normal Domain')\n",
    "sns.kdeplot(tpe_results['x'], label = 'Uniform Domain')\n",
    "plt.legend(); plt.xlabel('Value of x'); plt.ylabel('Density'); plt.title('Comparison of Domain Choice using TPE');"
   ]
  },
  {
   "cell_type": "code",
   "execution_count": 127,
   "metadata": {
    "colab": {
     "base_uri": "https://localhost:8080/"
    },
    "id": "lG3q66qoTewE",
    "outputId": "d2789dab-051e-49bb-c33f-e686fed3a514"
   },
   "outputs": [
    {
     "name": "stdout",
     "output_type": "stream",
     "text": [
      "Lowest Value of the Objective Function = -219.8012 at x = 4.8782 found in 956 iterations.\n"
     ]
    }
   ],
   "source": [
    "print('Lowest Value of the Objective Function = {:.4f} at x = {:.4f} found in {:.0f} iterations.'.format(results_df['loss'].min(),\n",
    "                                                                             results_df.loc[results_df['loss'].idxmin()]['x'],\n",
    "                                                                             results_df.loc[results_df['loss'].idxmin()]['iteration']))"
   ]
  }
 ],
 "metadata": {
  "colab": {
   "collapsed_sections": [],
   "name": "Untitled7.ipynb",
   "provenance": []
  },
  "kernelspec": {
   "display_name": "Python 3",
   "language": "python",
   "name": "python3"
  },
  "language_info": {
   "codemirror_mode": {
    "name": "ipython",
    "version": 3
   },
   "file_extension": ".py",
   "mimetype": "text/x-python",
   "name": "python",
   "nbconvert_exporter": "python",
   "pygments_lexer": "ipython3",
   "version": "3.7.6"
  }
 },
 "nbformat": 4,
 "nbformat_minor": 1
}
